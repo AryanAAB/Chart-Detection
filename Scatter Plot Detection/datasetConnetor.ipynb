{
 "cells": [
  {
   "cell_type": "code",
   "id": "initial_id",
   "metadata": {
    "collapsed": true,
    "ExecuteTime": {
     "end_time": "2025-02-20T11:37:22.585825Z",
     "start_time": "2025-02-20T11:37:22.568559Z"
    }
   },
   "source": [
    "import json\n",
    "import os\n",
    "import shutil\n",
    "import random"
   ],
   "outputs": [],
   "execution_count": 25
  },
  {
   "metadata": {
    "ExecuteTime": {
     "end_time": "2025-02-20T11:37:22.895244Z",
     "start_time": "2025-02-20T11:37:22.884090Z"
    }
   },
   "cell_type": "code",
   "source": [
    "# Define paths\n",
    "parent_folder = \"Final Dataset\"\n",
    "images_folder = os.path.join(\"..\", parent_folder)\n",
    "annotations_file = os.path.join(\"..\", parent_folder, \"instances_default.json\")\n",
    "\n",
    "out_parent_folder = \"Scatter Dataset\"\n",
    "out_folders = {\n",
    "    \"train\": os.path.join(out_parent_folder, \"train\"),\n",
    "    \"val\": os.path.join(out_parent_folder, \"val\"),\n",
    "    \"test\": os.path.join(out_parent_folder, \"test\")\n",
    "}"
   ],
   "id": "7b0138cba162d4f4",
   "outputs": [],
   "execution_count": 26
  },
  {
   "metadata": {
    "ExecuteTime": {
     "end_time": "2025-02-20T11:37:23.245207Z",
     "start_time": "2025-02-20T11:37:23.223586Z"
    }
   },
   "cell_type": "code",
   "source": [
    "# Create output directories\n",
    "for split in out_folders.values():\n",
    "    os.makedirs(os.path.join(split, \"images\"), exist_ok=True)\n",
    "    os.makedirs(os.path.join(split, \"annotations\"), exist_ok=True)"
   ],
   "id": "e5ac91741ab1e5bf",
   "outputs": [],
   "execution_count": 27
  },
  {
   "metadata": {
    "ExecuteTime": {
     "end_time": "2025-02-20T11:37:23.579194Z",
     "start_time": "2025-02-20T11:37:23.565441Z"
    }
   },
   "cell_type": "code",
   "source": [
    "# Load annotations\n",
    "with open(annotations_file, \"r\") as f:\n",
    "    data = json.load(f)"
   ],
   "id": "451182d3d8d95d1b",
   "outputs": [],
   "execution_count": 28
  },
  {
   "metadata": {
    "ExecuteTime": {
     "end_time": "2025-02-20T11:37:24.069631Z",
     "start_time": "2025-02-20T11:37:24.063020Z"
    }
   },
   "cell_type": "code",
   "source": [
    "# Get annotated images\n",
    "annotated_images = set()\n",
    "for ann in data[\"annotations\"]:\n",
    "    annotated_images.add(ann[\"image_id\"])\n",
    "\n",
    "print(len(annotated_images))"
   ],
   "id": "f9822337c9681354",
   "outputs": [
    {
     "name": "stdout",
     "output_type": "stream",
     "text": [
      "151\n"
     ]
    }
   ],
   "execution_count": 29
  },
  {
   "metadata": {
    "ExecuteTime": {
     "end_time": "2025-02-20T11:37:24.461264Z",
     "start_time": "2025-02-20T11:37:24.454613Z"
    }
   },
   "cell_type": "code",
   "source": [
    "# Filter images with annotations\n",
    "images_with_annotations = [img for img in data[\"images\"] if img[\"id\"] in annotated_images]"
   ],
   "id": "b3cca5a0ab4ababc",
   "outputs": [],
   "execution_count": 30
  },
  {
   "metadata": {
    "ExecuteTime": {
     "end_time": "2025-02-20T11:37:24.840785Z",
     "start_time": "2025-02-20T11:37:24.828766Z"
    }
   },
   "cell_type": "code",
   "source": [
    "# Shuffle and split dataset\n",
    "random.shuffle(images_with_annotations)\n",
    "n = len(images_with_annotations)\n",
    "train_split = int(0.95 * n)\n",
    "val_split = int(0.025 * n)"
   ],
   "id": "a79b481936d979c2",
   "outputs": [],
   "execution_count": 31
  },
  {
   "metadata": {
    "ExecuteTime": {
     "end_time": "2025-02-20T11:37:25.644683Z",
     "start_time": "2025-02-20T11:37:25.639065Z"
    }
   },
   "cell_type": "code",
   "source": [
    "data_splits = {\n",
    "    \"train\": images_with_annotations[:train_split],\n",
    "    \"val\": images_with_annotations[train_split:train_split + val_split],\n",
    "    \"test\": images_with_annotations[train_split + val_split:]\n",
    "}"
   ],
   "id": "73cb8859c80b338f",
   "outputs": [],
   "execution_count": 32
  },
  {
   "metadata": {
    "ExecuteTime": {
     "end_time": "2025-02-20T11:37:26.524Z",
     "start_time": "2025-02-20T11:37:26.249489Z"
    }
   },
   "cell_type": "code",
   "source": [
    "# Copy images and prepare JSON annotations\n",
    "for split, images in data_splits.items():\n",
    "    split_image_ids = {img[\"id\"] for img in images}\n",
    "    split_annotations = [ann for ann in data[\"annotations\"] if ann[\"image_id\"] in split_image_ids]\n",
    "\n",
    "    # Save split JSON\n",
    "    split_json = {\n",
    "        \"images\": images,\n",
    "        \"annotations\": split_annotations,\n",
    "        \"categories\": data[\"categories\"]\n",
    "    }\n",
    "    json_path = os.path.join(out_folders[split], \"annotations\", \"instances_default.json\")\n",
    "    with open(json_path, \"w\") as f:\n",
    "        json.dump(split_json, f, indent=4)\n",
    "\n",
    "    # Copy images\n",
    "    for img in images:\n",
    "        src_path = os.path.join(images_folder, img[\"file_name\"])\n",
    "        dst_path = os.path.join(out_folders[split], \"images\", img[\"file_name\"])\n",
    "        if os.path.exists(src_path):\n",
    "            shutil.copy(src_path, dst_path)"
   ],
   "id": "8230425809410b53",
   "outputs": [],
   "execution_count": 33
  },
  {
   "metadata": {},
   "cell_type": "code",
   "outputs": [],
   "execution_count": null,
   "source": "",
   "id": "39b72b16613e47c1"
  }
 ],
 "metadata": {
  "kernelspec": {
   "display_name": "Python 3",
   "language": "python",
   "name": "python3"
  },
  "language_info": {
   "codemirror_mode": {
    "name": "ipython",
    "version": 2
   },
   "file_extension": ".py",
   "mimetype": "text/x-python",
   "name": "python",
   "nbconvert_exporter": "python",
   "pygments_lexer": "ipython2",
   "version": "2.7.6"
  }
 },
 "nbformat": 4,
 "nbformat_minor": 5
}
